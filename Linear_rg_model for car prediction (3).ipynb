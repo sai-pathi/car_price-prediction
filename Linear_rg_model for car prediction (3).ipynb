{
 "cells": [
  {
   "cell_type": "markdown",
   "id": "3a177e85",
   "metadata": {},
   "source": [
    "#  *** Predicting Car price using LR model  \n"
   ]
  },
  {
   "cell_type": "code",
   "execution_count": 15,
   "id": "bfcd331a",
   "metadata": {},
   "outputs": [],
   "source": [
    "# import the necessary libraries"
   ]
  },
  {
   "cell_type": "code",
   "execution_count": 1,
   "id": "a83f7df9",
   "metadata": {},
   "outputs": [],
   "source": [
    "from numpy import *\n",
    "from pandas import *\n",
    "import matplotlib.pyplot as plt\n",
    "import seaborn as sns"
   ]
  },
  {
   "cell_type": "markdown",
   "id": "722f1e6b",
   "metadata": {},
   "source": [
    "## ** Reading and understanding of data"
   ]
  },
  {
   "cell_type": "code",
   "execution_count": 4,
   "id": "e77a32bd",
   "metadata": {},
   "outputs": [
    {
     "data": {
      "text/html": [
       "<div>\n",
       "<style scoped>\n",
       "    .dataframe tbody tr th:only-of-type {\n",
       "        vertical-align: middle;\n",
       "    }\n",
       "\n",
       "    .dataframe tbody tr th {\n",
       "        vertical-align: top;\n",
       "    }\n",
       "\n",
       "    .dataframe thead th {\n",
       "        text-align: right;\n",
       "    }\n",
       "</style>\n",
       "<table border=\"1\" class=\"dataframe\">\n",
       "  <thead>\n",
       "    <tr style=\"text-align: right;\">\n",
       "      <th></th>\n",
       "      <th>model</th>\n",
       "      <th>year</th>\n",
       "      <th>price</th>\n",
       "      <th>transmission</th>\n",
       "      <th>mileage</th>\n",
       "      <th>fuelType</th>\n",
       "      <th>tax</th>\n",
       "      <th>mpg</th>\n",
       "      <th>engineSize</th>\n",
       "      <th>Make</th>\n",
       "    </tr>\n",
       "  </thead>\n",
       "  <tbody>\n",
       "    <tr>\n",
       "      <th>0</th>\n",
       "      <td>A1</td>\n",
       "      <td>2017</td>\n",
       "      <td>12500</td>\n",
       "      <td>Manual</td>\n",
       "      <td>15735</td>\n",
       "      <td>Petrol</td>\n",
       "      <td>150.0</td>\n",
       "      <td>55.4</td>\n",
       "      <td>1.4</td>\n",
       "      <td>audi</td>\n",
       "    </tr>\n",
       "    <tr>\n",
       "      <th>1</th>\n",
       "      <td>A6</td>\n",
       "      <td>2016</td>\n",
       "      <td>16500</td>\n",
       "      <td>Automatic</td>\n",
       "      <td>36203</td>\n",
       "      <td>Diesel</td>\n",
       "      <td>20.0</td>\n",
       "      <td>64.2</td>\n",
       "      <td>2.0</td>\n",
       "      <td>audi</td>\n",
       "    </tr>\n",
       "    <tr>\n",
       "      <th>2</th>\n",
       "      <td>A1</td>\n",
       "      <td>2016</td>\n",
       "      <td>11000</td>\n",
       "      <td>Manual</td>\n",
       "      <td>29946</td>\n",
       "      <td>Petrol</td>\n",
       "      <td>30.0</td>\n",
       "      <td>55.4</td>\n",
       "      <td>1.4</td>\n",
       "      <td>audi</td>\n",
       "    </tr>\n",
       "    <tr>\n",
       "      <th>3</th>\n",
       "      <td>A4</td>\n",
       "      <td>2017</td>\n",
       "      <td>16800</td>\n",
       "      <td>Automatic</td>\n",
       "      <td>25952</td>\n",
       "      <td>Diesel</td>\n",
       "      <td>145.0</td>\n",
       "      <td>67.3</td>\n",
       "      <td>2.0</td>\n",
       "      <td>audi</td>\n",
       "    </tr>\n",
       "    <tr>\n",
       "      <th>4</th>\n",
       "      <td>A3</td>\n",
       "      <td>2019</td>\n",
       "      <td>17300</td>\n",
       "      <td>Manual</td>\n",
       "      <td>1998</td>\n",
       "      <td>Petrol</td>\n",
       "      <td>145.0</td>\n",
       "      <td>49.6</td>\n",
       "      <td>1.0</td>\n",
       "      <td>audi</td>\n",
       "    </tr>\n",
       "    <tr>\n",
       "      <th>...</th>\n",
       "      <td>...</td>\n",
       "      <td>...</td>\n",
       "      <td>...</td>\n",
       "      <td>...</td>\n",
       "      <td>...</td>\n",
       "      <td>...</td>\n",
       "      <td>...</td>\n",
       "      <td>...</td>\n",
       "      <td>...</td>\n",
       "      <td>...</td>\n",
       "    </tr>\n",
       "    <tr>\n",
       "      <th>72430</th>\n",
       "      <td>I30</td>\n",
       "      <td>2016</td>\n",
       "      <td>8680</td>\n",
       "      <td>Manual</td>\n",
       "      <td>25906</td>\n",
       "      <td>Diesel</td>\n",
       "      <td>0.0</td>\n",
       "      <td>78.4</td>\n",
       "      <td>1.6</td>\n",
       "      <td>Hyundai</td>\n",
       "    </tr>\n",
       "    <tr>\n",
       "      <th>72431</th>\n",
       "      <td>I40</td>\n",
       "      <td>2015</td>\n",
       "      <td>7830</td>\n",
       "      <td>Manual</td>\n",
       "      <td>59508</td>\n",
       "      <td>Diesel</td>\n",
       "      <td>30.0</td>\n",
       "      <td>65.7</td>\n",
       "      <td>1.7</td>\n",
       "      <td>Hyundai</td>\n",
       "    </tr>\n",
       "    <tr>\n",
       "      <th>72432</th>\n",
       "      <td>I10</td>\n",
       "      <td>2017</td>\n",
       "      <td>6830</td>\n",
       "      <td>Manual</td>\n",
       "      <td>13810</td>\n",
       "      <td>Petrol</td>\n",
       "      <td>20.0</td>\n",
       "      <td>60.1</td>\n",
       "      <td>1.0</td>\n",
       "      <td>Hyundai</td>\n",
       "    </tr>\n",
       "    <tr>\n",
       "      <th>72433</th>\n",
       "      <td>Tucson</td>\n",
       "      <td>2018</td>\n",
       "      <td>13994</td>\n",
       "      <td>Manual</td>\n",
       "      <td>23313</td>\n",
       "      <td>Petrol</td>\n",
       "      <td>145.0</td>\n",
       "      <td>44.8</td>\n",
       "      <td>1.6</td>\n",
       "      <td>Hyundai</td>\n",
       "    </tr>\n",
       "    <tr>\n",
       "      <th>72434</th>\n",
       "      <td>Tucson</td>\n",
       "      <td>2016</td>\n",
       "      <td>15999</td>\n",
       "      <td>Automatic</td>\n",
       "      <td>11472</td>\n",
       "      <td>Diesel</td>\n",
       "      <td>125.0</td>\n",
       "      <td>57.6</td>\n",
       "      <td>1.7</td>\n",
       "      <td>Hyundai</td>\n",
       "    </tr>\n",
       "  </tbody>\n",
       "</table>\n",
       "<p>72435 rows × 10 columns</p>\n",
       "</div>"
      ],
      "text/plain": [
       "         model  year  price transmission  mileage fuelType    tax   mpg  \\\n",
       "0           A1  2017  12500       Manual    15735   Petrol  150.0  55.4   \n",
       "1           A6  2016  16500    Automatic    36203   Diesel   20.0  64.2   \n",
       "2           A1  2016  11000       Manual    29946   Petrol   30.0  55.4   \n",
       "3           A4  2017  16800    Automatic    25952   Diesel  145.0  67.3   \n",
       "4           A3  2019  17300       Manual     1998   Petrol  145.0  49.6   \n",
       "...        ...   ...    ...          ...      ...      ...    ...   ...   \n",
       "72430      I30  2016   8680       Manual    25906   Diesel    0.0  78.4   \n",
       "72431      I40  2015   7830       Manual    59508   Diesel   30.0  65.7   \n",
       "72432      I10  2017   6830       Manual    13810   Petrol   20.0  60.1   \n",
       "72433   Tucson  2018  13994       Manual    23313   Petrol  145.0  44.8   \n",
       "72434   Tucson  2016  15999    Automatic    11472   Diesel  125.0  57.6   \n",
       "\n",
       "       engineSize     Make  \n",
       "0             1.4     audi  \n",
       "1             2.0     audi  \n",
       "2             1.4     audi  \n",
       "3             2.0     audi  \n",
       "4             1.0     audi  \n",
       "...           ...      ...  \n",
       "72430         1.6  Hyundai  \n",
       "72431         1.7  Hyundai  \n",
       "72432         1.0  Hyundai  \n",
       "72433         1.6  Hyundai  \n",
       "72434         1.7  Hyundai  \n",
       "\n",
       "[72435 rows x 10 columns]"
      ]
     },
     "execution_count": 4,
     "metadata": {},
     "output_type": "execute_result"
    }
   ],
   "source": [
    "cars=read_csv(\"C:/Users/sai/OneDrive/Documents/dataset/cars_dataset.csv\")\n",
    "cars"
   ]
  },
  {
   "cell_type": "code",
   "execution_count": 5,
   "id": "379e3bc0",
   "metadata": {},
   "outputs": [
    {
     "data": {
      "text/plain": [
       "(72435, 10)"
      ]
     },
     "execution_count": 5,
     "metadata": {},
     "output_type": "execute_result"
    }
   ],
   "source": [
    "cars.shape"
   ]
  },
  {
   "cell_type": "code",
   "execution_count": 6,
   "id": "44e23e98",
   "metadata": {},
   "outputs": [
    {
     "data": {
      "text/html": [
       "<div>\n",
       "<style scoped>\n",
       "    .dataframe tbody tr th:only-of-type {\n",
       "        vertical-align: middle;\n",
       "    }\n",
       "\n",
       "    .dataframe tbody tr th {\n",
       "        vertical-align: top;\n",
       "    }\n",
       "\n",
       "    .dataframe thead th {\n",
       "        text-align: right;\n",
       "    }\n",
       "</style>\n",
       "<table border=\"1\" class=\"dataframe\">\n",
       "  <thead>\n",
       "    <tr style=\"text-align: right;\">\n",
       "      <th></th>\n",
       "      <th>model</th>\n",
       "      <th>year</th>\n",
       "      <th>price</th>\n",
       "      <th>transmission</th>\n",
       "      <th>mileage</th>\n",
       "      <th>fuelType</th>\n",
       "      <th>tax</th>\n",
       "      <th>mpg</th>\n",
       "      <th>engineSize</th>\n",
       "      <th>Make</th>\n",
       "    </tr>\n",
       "  </thead>\n",
       "  <tbody>\n",
       "    <tr>\n",
       "      <th>0</th>\n",
       "      <td>A1</td>\n",
       "      <td>2017</td>\n",
       "      <td>12500</td>\n",
       "      <td>Manual</td>\n",
       "      <td>15735</td>\n",
       "      <td>Petrol</td>\n",
       "      <td>150.0</td>\n",
       "      <td>55.4</td>\n",
       "      <td>1.4</td>\n",
       "      <td>audi</td>\n",
       "    </tr>\n",
       "    <tr>\n",
       "      <th>1</th>\n",
       "      <td>A6</td>\n",
       "      <td>2016</td>\n",
       "      <td>16500</td>\n",
       "      <td>Automatic</td>\n",
       "      <td>36203</td>\n",
       "      <td>Diesel</td>\n",
       "      <td>20.0</td>\n",
       "      <td>64.2</td>\n",
       "      <td>2.0</td>\n",
       "      <td>audi</td>\n",
       "    </tr>\n",
       "    <tr>\n",
       "      <th>2</th>\n",
       "      <td>A1</td>\n",
       "      <td>2016</td>\n",
       "      <td>11000</td>\n",
       "      <td>Manual</td>\n",
       "      <td>29946</td>\n",
       "      <td>Petrol</td>\n",
       "      <td>30.0</td>\n",
       "      <td>55.4</td>\n",
       "      <td>1.4</td>\n",
       "      <td>audi</td>\n",
       "    </tr>\n",
       "    <tr>\n",
       "      <th>3</th>\n",
       "      <td>A4</td>\n",
       "      <td>2017</td>\n",
       "      <td>16800</td>\n",
       "      <td>Automatic</td>\n",
       "      <td>25952</td>\n",
       "      <td>Diesel</td>\n",
       "      <td>145.0</td>\n",
       "      <td>67.3</td>\n",
       "      <td>2.0</td>\n",
       "      <td>audi</td>\n",
       "    </tr>\n",
       "    <tr>\n",
       "      <th>4</th>\n",
       "      <td>A3</td>\n",
       "      <td>2019</td>\n",
       "      <td>17300</td>\n",
       "      <td>Manual</td>\n",
       "      <td>1998</td>\n",
       "      <td>Petrol</td>\n",
       "      <td>145.0</td>\n",
       "      <td>49.6</td>\n",
       "      <td>1.0</td>\n",
       "      <td>audi</td>\n",
       "    </tr>\n",
       "  </tbody>\n",
       "</table>\n",
       "</div>"
      ],
      "text/plain": [
       "  model  year  price transmission  mileage fuelType    tax   mpg  engineSize  \\\n",
       "0    A1  2017  12500       Manual    15735   Petrol  150.0  55.4         1.4   \n",
       "1    A6  2016  16500    Automatic    36203   Diesel   20.0  64.2         2.0   \n",
       "2    A1  2016  11000       Manual    29946   Petrol   30.0  55.4         1.4   \n",
       "3    A4  2017  16800    Automatic    25952   Diesel  145.0  67.3         2.0   \n",
       "4    A3  2019  17300       Manual     1998   Petrol  145.0  49.6         1.0   \n",
       "\n",
       "   Make  \n",
       "0  audi  \n",
       "1  audi  \n",
       "2  audi  \n",
       "3  audi  \n",
       "4  audi  "
      ]
     },
     "execution_count": 6,
     "metadata": {},
     "output_type": "execute_result"
    }
   ],
   "source": [
    "cars.head()"
   ]
  },
  {
   "cell_type": "code",
   "execution_count": 7,
   "id": "4bdf7adb",
   "metadata": {},
   "outputs": [
    {
     "data": {
      "text/html": [
       "<div>\n",
       "<style scoped>\n",
       "    .dataframe tbody tr th:only-of-type {\n",
       "        vertical-align: middle;\n",
       "    }\n",
       "\n",
       "    .dataframe tbody tr th {\n",
       "        vertical-align: top;\n",
       "    }\n",
       "\n",
       "    .dataframe thead th {\n",
       "        text-align: right;\n",
       "    }\n",
       "</style>\n",
       "<table border=\"1\" class=\"dataframe\">\n",
       "  <thead>\n",
       "    <tr style=\"text-align: right;\">\n",
       "      <th></th>\n",
       "      <th>model</th>\n",
       "      <th>year</th>\n",
       "      <th>price</th>\n",
       "      <th>transmission</th>\n",
       "      <th>mileage</th>\n",
       "      <th>fuelType</th>\n",
       "      <th>tax</th>\n",
       "      <th>mpg</th>\n",
       "      <th>engineSize</th>\n",
       "      <th>Make</th>\n",
       "    </tr>\n",
       "  </thead>\n",
       "  <tbody>\n",
       "    <tr>\n",
       "      <th>72430</th>\n",
       "      <td>I30</td>\n",
       "      <td>2016</td>\n",
       "      <td>8680</td>\n",
       "      <td>Manual</td>\n",
       "      <td>25906</td>\n",
       "      <td>Diesel</td>\n",
       "      <td>0.0</td>\n",
       "      <td>78.4</td>\n",
       "      <td>1.6</td>\n",
       "      <td>Hyundai</td>\n",
       "    </tr>\n",
       "    <tr>\n",
       "      <th>72431</th>\n",
       "      <td>I40</td>\n",
       "      <td>2015</td>\n",
       "      <td>7830</td>\n",
       "      <td>Manual</td>\n",
       "      <td>59508</td>\n",
       "      <td>Diesel</td>\n",
       "      <td>30.0</td>\n",
       "      <td>65.7</td>\n",
       "      <td>1.7</td>\n",
       "      <td>Hyundai</td>\n",
       "    </tr>\n",
       "    <tr>\n",
       "      <th>72432</th>\n",
       "      <td>I10</td>\n",
       "      <td>2017</td>\n",
       "      <td>6830</td>\n",
       "      <td>Manual</td>\n",
       "      <td>13810</td>\n",
       "      <td>Petrol</td>\n",
       "      <td>20.0</td>\n",
       "      <td>60.1</td>\n",
       "      <td>1.0</td>\n",
       "      <td>Hyundai</td>\n",
       "    </tr>\n",
       "    <tr>\n",
       "      <th>72433</th>\n",
       "      <td>Tucson</td>\n",
       "      <td>2018</td>\n",
       "      <td>13994</td>\n",
       "      <td>Manual</td>\n",
       "      <td>23313</td>\n",
       "      <td>Petrol</td>\n",
       "      <td>145.0</td>\n",
       "      <td>44.8</td>\n",
       "      <td>1.6</td>\n",
       "      <td>Hyundai</td>\n",
       "    </tr>\n",
       "    <tr>\n",
       "      <th>72434</th>\n",
       "      <td>Tucson</td>\n",
       "      <td>2016</td>\n",
       "      <td>15999</td>\n",
       "      <td>Automatic</td>\n",
       "      <td>11472</td>\n",
       "      <td>Diesel</td>\n",
       "      <td>125.0</td>\n",
       "      <td>57.6</td>\n",
       "      <td>1.7</td>\n",
       "      <td>Hyundai</td>\n",
       "    </tr>\n",
       "  </tbody>\n",
       "</table>\n",
       "</div>"
      ],
      "text/plain": [
       "         model  year  price transmission  mileage fuelType    tax   mpg  \\\n",
       "72430      I30  2016   8680       Manual    25906   Diesel    0.0  78.4   \n",
       "72431      I40  2015   7830       Manual    59508   Diesel   30.0  65.7   \n",
       "72432      I10  2017   6830       Manual    13810   Petrol   20.0  60.1   \n",
       "72433   Tucson  2018  13994       Manual    23313   Petrol  145.0  44.8   \n",
       "72434   Tucson  2016  15999    Automatic    11472   Diesel  125.0  57.6   \n",
       "\n",
       "       engineSize     Make  \n",
       "72430         1.6  Hyundai  \n",
       "72431         1.7  Hyundai  \n",
       "72432         1.0  Hyundai  \n",
       "72433         1.6  Hyundai  \n",
       "72434         1.7  Hyundai  "
      ]
     },
     "execution_count": 7,
     "metadata": {},
     "output_type": "execute_result"
    }
   ],
   "source": [
    "cars.tail()"
   ]
  },
  {
   "cell_type": "code",
   "execution_count": 8,
   "id": "8135bbb4",
   "metadata": {},
   "outputs": [
    {
     "data": {
      "text/plain": [
       "Index(['model', 'year', 'price', 'transmission', 'mileage', 'fuelType', 'tax',\n",
       "       'mpg', 'engineSize', 'Make'],\n",
       "      dtype='object')"
      ]
     },
     "execution_count": 8,
     "metadata": {},
     "output_type": "execute_result"
    }
   ],
   "source": [
    "cars.columns"
   ]
  },
  {
   "cell_type": "code",
   "execution_count": 9,
   "id": "97ab1555",
   "metadata": {},
   "outputs": [
    {
     "data": {
      "text/html": [
       "<div>\n",
       "<style scoped>\n",
       "    .dataframe tbody tr th:only-of-type {\n",
       "        vertical-align: middle;\n",
       "    }\n",
       "\n",
       "    .dataframe tbody tr th {\n",
       "        vertical-align: top;\n",
       "    }\n",
       "\n",
       "    .dataframe thead th {\n",
       "        text-align: right;\n",
       "    }\n",
       "</style>\n",
       "<table border=\"1\" class=\"dataframe\">\n",
       "  <thead>\n",
       "    <tr style=\"text-align: right;\">\n",
       "      <th></th>\n",
       "      <th>year</th>\n",
       "      <th>price</th>\n",
       "      <th>mileage</th>\n",
       "      <th>tax</th>\n",
       "      <th>mpg</th>\n",
       "      <th>engineSize</th>\n",
       "    </tr>\n",
       "  </thead>\n",
       "  <tbody>\n",
       "    <tr>\n",
       "      <th>count</th>\n",
       "      <td>72435.000000</td>\n",
       "      <td>72435.000000</td>\n",
       "      <td>72435.000000</td>\n",
       "      <td>72435.000000</td>\n",
       "      <td>72435.000000</td>\n",
       "      <td>72435.000000</td>\n",
       "    </tr>\n",
       "    <tr>\n",
       "      <th>mean</th>\n",
       "      <td>2017.073666</td>\n",
       "      <td>16580.158708</td>\n",
       "      <td>23176.517057</td>\n",
       "      <td>116.953407</td>\n",
       "      <td>55.852480</td>\n",
       "      <td>1.635650</td>\n",
       "    </tr>\n",
       "    <tr>\n",
       "      <th>std</th>\n",
       "      <td>2.101252</td>\n",
       "      <td>9299.028754</td>\n",
       "      <td>21331.515562</td>\n",
       "      <td>64.045533</td>\n",
       "      <td>17.114391</td>\n",
       "      <td>0.561535</td>\n",
       "    </tr>\n",
       "    <tr>\n",
       "      <th>min</th>\n",
       "      <td>1996.000000</td>\n",
       "      <td>495.000000</td>\n",
       "      <td>1.000000</td>\n",
       "      <td>0.000000</td>\n",
       "      <td>0.300000</td>\n",
       "      <td>0.000000</td>\n",
       "    </tr>\n",
       "    <tr>\n",
       "      <th>25%</th>\n",
       "      <td>2016.000000</td>\n",
       "      <td>10175.000000</td>\n",
       "      <td>7202.500000</td>\n",
       "      <td>30.000000</td>\n",
       "      <td>47.900000</td>\n",
       "      <td>1.200000</td>\n",
       "    </tr>\n",
       "    <tr>\n",
       "      <th>50%</th>\n",
       "      <td>2017.000000</td>\n",
       "      <td>14495.000000</td>\n",
       "      <td>17531.000000</td>\n",
       "      <td>145.000000</td>\n",
       "      <td>55.400000</td>\n",
       "      <td>1.600000</td>\n",
       "    </tr>\n",
       "    <tr>\n",
       "      <th>75%</th>\n",
       "      <td>2019.000000</td>\n",
       "      <td>20361.000000</td>\n",
       "      <td>32449.000000</td>\n",
       "      <td>145.000000</td>\n",
       "      <td>62.800000</td>\n",
       "      <td>2.000000</td>\n",
       "    </tr>\n",
       "    <tr>\n",
       "      <th>max</th>\n",
       "      <td>2020.000000</td>\n",
       "      <td>145000.000000</td>\n",
       "      <td>323000.000000</td>\n",
       "      <td>580.000000</td>\n",
       "      <td>470.800000</td>\n",
       "      <td>6.600000</td>\n",
       "    </tr>\n",
       "  </tbody>\n",
       "</table>\n",
       "</div>"
      ],
      "text/plain": [
       "               year          price        mileage           tax           mpg  \\\n",
       "count  72435.000000   72435.000000   72435.000000  72435.000000  72435.000000   \n",
       "mean    2017.073666   16580.158708   23176.517057    116.953407     55.852480   \n",
       "std        2.101252    9299.028754   21331.515562     64.045533     17.114391   \n",
       "min     1996.000000     495.000000       1.000000      0.000000      0.300000   \n",
       "25%     2016.000000   10175.000000    7202.500000     30.000000     47.900000   \n",
       "50%     2017.000000   14495.000000   17531.000000    145.000000     55.400000   \n",
       "75%     2019.000000   20361.000000   32449.000000    145.000000     62.800000   \n",
       "max     2020.000000  145000.000000  323000.000000    580.000000    470.800000   \n",
       "\n",
       "         engineSize  \n",
       "count  72435.000000  \n",
       "mean       1.635650  \n",
       "std        0.561535  \n",
       "min        0.000000  \n",
       "25%        1.200000  \n",
       "50%        1.600000  \n",
       "75%        2.000000  \n",
       "max        6.600000  "
      ]
     },
     "execution_count": 9,
     "metadata": {},
     "output_type": "execute_result"
    }
   ],
   "source": [
    "cars.describe()"
   ]
  },
  {
   "cell_type": "code",
   "execution_count": 10,
   "id": "5c63f2e8",
   "metadata": {},
   "outputs": [
    {
     "data": {
      "text/plain": [
       "<bound method DataFrame.info of          model  year  price transmission  mileage fuelType    tax   mpg  \\\n",
       "0           A1  2017  12500       Manual    15735   Petrol  150.0  55.4   \n",
       "1           A6  2016  16500    Automatic    36203   Diesel   20.0  64.2   \n",
       "2           A1  2016  11000       Manual    29946   Petrol   30.0  55.4   \n",
       "3           A4  2017  16800    Automatic    25952   Diesel  145.0  67.3   \n",
       "4           A3  2019  17300       Manual     1998   Petrol  145.0  49.6   \n",
       "...        ...   ...    ...          ...      ...      ...    ...   ...   \n",
       "72430      I30  2016   8680       Manual    25906   Diesel    0.0  78.4   \n",
       "72431      I40  2015   7830       Manual    59508   Diesel   30.0  65.7   \n",
       "72432      I10  2017   6830       Manual    13810   Petrol   20.0  60.1   \n",
       "72433   Tucson  2018  13994       Manual    23313   Petrol  145.0  44.8   \n",
       "72434   Tucson  2016  15999    Automatic    11472   Diesel  125.0  57.6   \n",
       "\n",
       "       engineSize     Make  \n",
       "0             1.4     audi  \n",
       "1             2.0     audi  \n",
       "2             1.4     audi  \n",
       "3             2.0     audi  \n",
       "4             1.0     audi  \n",
       "...           ...      ...  \n",
       "72430         1.6  Hyundai  \n",
       "72431         1.7  Hyundai  \n",
       "72432         1.0  Hyundai  \n",
       "72433         1.6  Hyundai  \n",
       "72434         1.7  Hyundai  \n",
       "\n",
       "[72435 rows x 10 columns]>"
      ]
     },
     "execution_count": 10,
     "metadata": {},
     "output_type": "execute_result"
    }
   ],
   "source": [
    "cars.info"
   ]
  },
  {
   "cell_type": "markdown",
   "id": "144fea07",
   "metadata": {},
   "source": [
    "## ** Data Preprocessing"
   ]
  },
  {
   "cell_type": "markdown",
   "id": "9735d4bf",
   "metadata": {},
   "source": [
    "### * Data Cleaning"
   ]
  },
  {
   "cell_type": "code",
   "execution_count": 11,
   "id": "8de7d993",
   "metadata": {},
   "outputs": [
    {
     "data": {
      "text/plain": [
       "model           0\n",
       "year            0\n",
       "price           0\n",
       "transmission    0\n",
       "mileage         0\n",
       "fuelType        0\n",
       "tax             0\n",
       "mpg             0\n",
       "engineSize      0\n",
       "Make            0\n",
       "dtype: int64"
      ]
     },
     "execution_count": 11,
     "metadata": {},
     "output_type": "execute_result"
    }
   ],
   "source": [
    "cars.isnull().sum()"
   ]
  },
  {
   "cell_type": "code",
   "execution_count": 12,
   "id": "2eedd38c",
   "metadata": {},
   "outputs": [],
   "source": [
    "# rename make coloumn  to company name column\n",
    "\n",
    "cars.rename(columns={\"Make\":\"Company_name\"},inplace=True)"
   ]
  },
  {
   "cell_type": "code",
   "execution_count": 13,
   "id": "53e246f2",
   "metadata": {},
   "outputs": [
    {
     "data": {
      "text/plain": [
       "0        False\n",
       "1        False\n",
       "2        False\n",
       "3        False\n",
       "4        False\n",
       "         ...  \n",
       "72430    False\n",
       "72431    False\n",
       "72432    False\n",
       "72433    False\n",
       "72434    False\n",
       "Length: 72435, dtype: bool"
      ]
     },
     "execution_count": 13,
     "metadata": {},
     "output_type": "execute_result"
    }
   ],
   "source": [
    "# check the dataset contains duplicate values\n",
    "\n",
    "cars.duplicated()"
   ]
  },
  {
   "cell_type": "code",
   "execution_count": 14,
   "id": "f72ef390",
   "metadata": {},
   "outputs": [
    {
     "data": {
      "text/plain": [
       "842"
      ]
     },
     "execution_count": 14,
     "metadata": {},
     "output_type": "execute_result"
    }
   ],
   "source": [
    "cars.duplicated().sum()"
   ]
  },
  {
   "cell_type": "code",
   "execution_count": 15,
   "id": "bbc0bee7",
   "metadata": {},
   "outputs": [
    {
     "data": {
      "text/plain": [
       "(72435, 10)"
      ]
     },
     "execution_count": 15,
     "metadata": {},
     "output_type": "execute_result"
    }
   ],
   "source": [
    "cars.shape"
   ]
  },
  {
   "cell_type": "code",
   "execution_count": 16,
   "id": "2ed10280",
   "metadata": {},
   "outputs": [],
   "source": [
    "# remove the duplicate values from the dataset \n",
    "\n",
    "cars.drop_duplicates(inplace=True)"
   ]
  },
  {
   "cell_type": "code",
   "execution_count": 17,
   "id": "c1b4d308",
   "metadata": {},
   "outputs": [
    {
     "data": {
      "text/plain": [
       "(71593, 10)"
      ]
     },
     "execution_count": 17,
     "metadata": {},
     "output_type": "execute_result"
    }
   ],
   "source": [
    "cars.shape"
   ]
  },
  {
   "cell_type": "markdown",
   "id": "eeb96783",
   "metadata": {},
   "source": [
    "## ** Exploratory Data  Analysis"
   ]
  },
  {
   "cell_type": "code",
   "execution_count": 18,
   "id": "502a8b89",
   "metadata": {},
   "outputs": [],
   "source": [
    "# find how the data is distributed between the columns using exploration analysis process"
   ]
  },
  {
   "cell_type": "code",
   "execution_count": 19,
   "id": "44e3c590",
   "metadata": {},
   "outputs": [
    {
     "data": {
      "image/png": "[encoded data removed]",
      "text/plain": [
       "<Figure size 2500x800 with 2 Axes>"
      ]
     },
     "metadata": {},
     "output_type": "display_data"
    }
   ],
   "source": [
    "plt.figure(figsize=(25,8))\n",
    "\n",
    "# sales of each car\n",
    "\n",
    "plt.subplot(1,2,1)\n",
    "cars['Company_name'].value_counts().plot(kind='bar')\n",
    "plt.xlabel('Car comapnies',fontsize=15)\n",
    "plt.ylabel('Sales',fontsize=15)\n",
    "plt.title('Sales of each car',fontsize=20,color='red')\n",
    "\n",
    "# Average prices of each car \n",
    "\n",
    "plt.subplot(1,2,2)\n",
    "cars.groupby(\"Company_name\")['price'].mean().plot(kind='bar')\n",
    "plt.xlabel(\"Different car companies\",fontsize=15)\n",
    "plt.ylabel(\"Average prices of each car\",fontsize=15)\n",
    "plt.title(\"Avg prices of each car\",fontsize=20,color=\"red\")\n",
    "\n",
    "plt.show()"
   ]
  },
  {
   "cell_type": "code",
   "execution_count": 20,
   "id": "781ac1a9",
   "metadata": {},
   "outputs": [
    {
     "data": {
      "image/png": "[encoded data removed]",
      "text/plain": [
       "<Figure size 2500x700 with 2 Axes>"
      ]
     },
     "metadata": {},
     "output_type": "display_data"
    }
   ],
   "source": [
    "plt.figure(figsize=(25,7))\n",
    "\n",
    "# transmission\n",
    "\n",
    "plt.subplot(1,2,1)\n",
    "x=cars.transmission.value_counts()\n",
    "y=x.index\n",
    "plt.pie(x,labels=y)\n",
    "plt.title(\"Transmission of vehicles\",fontsize=20,color='brown')\n",
    "plt.legend(title=\"trans\")\n",
    "\n",
    "plt.subplot(1,2,2)\n",
    "x=cars.fuelType.value_counts()\n",
    "lab=x.index\n",
    "plt.pie(x,labels=lab,explode=[0,0,0,0.4,0])\n",
    "plt.title(\"Types of Fuel\",fontsize=20,color=\"brown\")\n",
    "plt.show()"
   ]
  },
  {
   "cell_type": "code",
   "execution_count": 21,
   "id": "faf55265",
   "metadata": {},
   "outputs": [
    {
     "data": {
      "image/png": "[encoded data removed]",
      "text/plain": [
       "<Figure size 640x480 with 1 Axes>"
      ]
     },
     "metadata": {},
     "output_type": "display_data"
    }
   ],
   "source": [
    "# changing the car price with respect to change in years\n",
    "\n",
    "year_price=cars.groupby('year')['price'].mean()\n",
    "pr_x=year_price.index\n",
    "pr_y=year_price.values\n",
    "plt.plot(pr_x,pr_y)\n",
    "plt.xlabel(\"Years\",fontsize=15,color=\"orange\")\n",
    "plt.ylabel(\"Price\",fontsize=15,color=\"orange\")\n",
    "plt.title(\"Changing price with respect to years\",fontsize=20,color=\"black\")\n",
    "plt.show()"
   ]
  },
  {
   "cell_type": "markdown",
   "id": "3f5ff754",
   "metadata": {},
   "source": [
    "## ** Feature Engineering"
   ]
  },
  {
   "cell_type": "markdown",
   "id": "a376b645",
   "metadata": {},
   "source": [
    "###  * Encoding the data "
   ]
  },
  {
   "cell_type": "code",
   "execution_count": 22,
   "id": "11e225ec",
   "metadata": {},
   "outputs": [
    {
     "data": {
      "text/html": [
       "<div>\n",
       "<style scoped>\n",
       "    .dataframe tbody tr th:only-of-type {\n",
       "        vertical-align: middle;\n",
       "    }\n",
       "\n",
       "    .dataframe tbody tr th {\n",
       "        vertical-align: top;\n",
       "    }\n",
       "\n",
       "    .dataframe thead th {\n",
       "        text-align: right;\n",
       "    }\n",
       "</style>\n",
       "<table border=\"1\" class=\"dataframe\">\n",
       "  <thead>\n",
       "    <tr style=\"text-align: right;\">\n",
       "      <th></th>\n",
       "      <th>model</th>\n",
       "      <th>year</th>\n",
       "      <th>price</th>\n",
       "      <th>transmission</th>\n",
       "      <th>mileage</th>\n",
       "      <th>fuelType</th>\n",
       "      <th>tax</th>\n",
       "      <th>mpg</th>\n",
       "      <th>engineSize</th>\n",
       "      <th>Company_name</th>\n",
       "    </tr>\n",
       "  </thead>\n",
       "  <tbody>\n",
       "    <tr>\n",
       "      <th>0</th>\n",
       "      <td>A1</td>\n",
       "      <td>2017</td>\n",
       "      <td>12500</td>\n",
       "      <td>0</td>\n",
       "      <td>15735</td>\n",
       "      <td>0</td>\n",
       "      <td>150.0</td>\n",
       "      <td>55.4</td>\n",
       "      <td>1.4</td>\n",
       "      <td>0</td>\n",
       "    </tr>\n",
       "    <tr>\n",
       "      <th>1</th>\n",
       "      <td>A6</td>\n",
       "      <td>2016</td>\n",
       "      <td>16500</td>\n",
       "      <td>1</td>\n",
       "      <td>36203</td>\n",
       "      <td>1</td>\n",
       "      <td>20.0</td>\n",
       "      <td>64.2</td>\n",
       "      <td>2.0</td>\n",
       "      <td>0</td>\n",
       "    </tr>\n",
       "    <tr>\n",
       "      <th>2</th>\n",
       "      <td>A1</td>\n",
       "      <td>2016</td>\n",
       "      <td>11000</td>\n",
       "      <td>0</td>\n",
       "      <td>29946</td>\n",
       "      <td>0</td>\n",
       "      <td>30.0</td>\n",
       "      <td>55.4</td>\n",
       "      <td>1.4</td>\n",
       "      <td>0</td>\n",
       "    </tr>\n",
       "    <tr>\n",
       "      <th>3</th>\n",
       "      <td>A4</td>\n",
       "      <td>2017</td>\n",
       "      <td>16800</td>\n",
       "      <td>1</td>\n",
       "      <td>25952</td>\n",
       "      <td>1</td>\n",
       "      <td>145.0</td>\n",
       "      <td>67.3</td>\n",
       "      <td>2.0</td>\n",
       "      <td>0</td>\n",
       "    </tr>\n",
       "    <tr>\n",
       "      <th>4</th>\n",
       "      <td>A3</td>\n",
       "      <td>2019</td>\n",
       "      <td>17300</td>\n",
       "      <td>0</td>\n",
       "      <td>1998</td>\n",
       "      <td>0</td>\n",
       "      <td>145.0</td>\n",
       "      <td>49.6</td>\n",
       "      <td>1.0</td>\n",
       "      <td>0</td>\n",
       "    </tr>\n",
       "    <tr>\n",
       "      <th>...</th>\n",
       "      <td>...</td>\n",
       "      <td>...</td>\n",
       "      <td>...</td>\n",
       "      <td>...</td>\n",
       "      <td>...</td>\n",
       "      <td>...</td>\n",
       "      <td>...</td>\n",
       "      <td>...</td>\n",
       "      <td>...</td>\n",
       "      <td>...</td>\n",
       "    </tr>\n",
       "    <tr>\n",
       "      <th>72430</th>\n",
       "      <td>I30</td>\n",
       "      <td>2016</td>\n",
       "      <td>8680</td>\n",
       "      <td>0</td>\n",
       "      <td>25906</td>\n",
       "      <td>1</td>\n",
       "      <td>0.0</td>\n",
       "      <td>78.4</td>\n",
       "      <td>1.6</td>\n",
       "      <td>6</td>\n",
       "    </tr>\n",
       "    <tr>\n",
       "      <th>72431</th>\n",
       "      <td>I40</td>\n",
       "      <td>2015</td>\n",
       "      <td>7830</td>\n",
       "      <td>0</td>\n",
       "      <td>59508</td>\n",
       "      <td>1</td>\n",
       "      <td>30.0</td>\n",
       "      <td>65.7</td>\n",
       "      <td>1.7</td>\n",
       "      <td>6</td>\n",
       "    </tr>\n",
       "    <tr>\n",
       "      <th>72432</th>\n",
       "      <td>I10</td>\n",
       "      <td>2017</td>\n",
       "      <td>6830</td>\n",
       "      <td>0</td>\n",
       "      <td>13810</td>\n",
       "      <td>0</td>\n",
       "      <td>20.0</td>\n",
       "      <td>60.1</td>\n",
       "      <td>1.0</td>\n",
       "      <td>6</td>\n",
       "    </tr>\n",
       "    <tr>\n",
       "      <th>72433</th>\n",
       "      <td>Tucson</td>\n",
       "      <td>2018</td>\n",
       "      <td>13994</td>\n",
       "      <td>0</td>\n",
       "      <td>23313</td>\n",
       "      <td>0</td>\n",
       "      <td>145.0</td>\n",
       "      <td>44.8</td>\n",
       "      <td>1.6</td>\n",
       "      <td>6</td>\n",
       "    </tr>\n",
       "    <tr>\n",
       "      <th>72434</th>\n",
       "      <td>Tucson</td>\n",
       "      <td>2016</td>\n",
       "      <td>15999</td>\n",
       "      <td>1</td>\n",
       "      <td>11472</td>\n",
       "      <td>1</td>\n",
       "      <td>125.0</td>\n",
       "      <td>57.6</td>\n",
       "      <td>1.7</td>\n",
       "      <td>6</td>\n",
       "    </tr>\n",
       "  </tbody>\n",
       "</table>\n",
       "<p>71593 rows × 10 columns</p>\n",
       "</div>"
      ],
      "text/plain": [
       "         model  year  price  transmission  mileage  fuelType    tax   mpg  \\\n",
       "0           A1  2017  12500             0    15735         0  150.0  55.4   \n",
       "1           A6  2016  16500             1    36203         1   20.0  64.2   \n",
       "2           A1  2016  11000             0    29946         0   30.0  55.4   \n",
       "3           A4  2017  16800             1    25952         1  145.0  67.3   \n",
       "4           A3  2019  17300             0     1998         0  145.0  49.6   \n",
       "...        ...   ...    ...           ...      ...       ...    ...   ...   \n",
       "72430      I30  2016   8680             0    25906         1    0.0  78.4   \n",
       "72431      I40  2015   7830             0    59508         1   30.0  65.7   \n",
       "72432      I10  2017   6830             0    13810         0   20.0  60.1   \n",
       "72433   Tucson  2018  13994             0    23313         0  145.0  44.8   \n",
       "72434   Tucson  2016  15999             1    11472         1  125.0  57.6   \n",
       "\n",
       "       engineSize  Company_name  \n",
       "0             1.4             0  \n",
       "1             2.0             0  \n",
       "2             1.4             0  \n",
       "3             2.0             0  \n",
       "4             1.0             0  \n",
       "...           ...           ...  \n",
       "72430         1.6             6  \n",
       "72431         1.7             6  \n",
       "72432         1.0             6  \n",
       "72433         1.6             6  \n",
       "72434         1.7             6  \n",
       "\n",
       "[71593 rows x 10 columns]"
      ]
     },
     "execution_count": 22,
     "metadata": {},
     "output_type": "execute_result"
    }
   ],
   "source": [
    "# Converting the string values into model understable numeric format\n",
    "\n",
    "cars.replace({'transmission':{'Manual':0,'Automatic':1,'Semi-Auto':2,'Other':3}},inplace=True)\n",
    "cars.replace({'fuelType':{'Petrol':0, 'Diesel':1, 'Hybrid':2, 'Other':3, 'Electric':4}},inplace=True)\n",
    "cars.replace({'Company_name':{'audi':0,'BMW':1,'Ford':2,'vw':3,'toyota':4, 'skoda':5, 'Hyundai':6}},inplace=True)\n",
    "cars"
   ]
  },
  {
   "cell_type": "code",
   "execution_count": 24,
   "id": "d6e50159",
   "metadata": {},
   "outputs": [],
   "source": [
    "cars['fuel_efficency']=cars.mileage//cars.mpg\n"
   ]
  },
  {
   "cell_type": "code",
   "execution_count": 25,
   "id": "db82cbc0",
   "metadata": {},
   "outputs": [
    {
     "data": {
      "text/html": [
       "<div>\n",
       "<style scoped>\n",
       "    .dataframe tbody tr th:only-of-type {\n",
       "        vertical-align: middle;\n",
       "    }\n",
       "\n",
       "    .dataframe tbody tr th {\n",
       "        vertical-align: top;\n",
       "    }\n",
       "\n",
       "    .dataframe thead th {\n",
       "        text-align: right;\n",
       "    }\n",
       "</style>\n",
       "<table border=\"1\" class=\"dataframe\">\n",
       "  <thead>\n",
       "    <tr style=\"text-align: right;\">\n",
       "      <th></th>\n",
       "      <th>model</th>\n",
       "      <th>year</th>\n",
       "      <th>price</th>\n",
       "      <th>transmission</th>\n",
       "      <th>mileage</th>\n",
       "      <th>fuelType</th>\n",
       "      <th>tax</th>\n",
       "      <th>mpg</th>\n",
       "      <th>engineSize</th>\n",
       "      <th>Company_name</th>\n",
       "      <th>fuel_efficency</th>\n",
       "    </tr>\n",
       "  </thead>\n",
       "  <tbody>\n",
       "    <tr>\n",
       "      <th>0</th>\n",
       "      <td>A1</td>\n",
       "      <td>2017</td>\n",
       "      <td>12500</td>\n",
       "      <td>0</td>\n",
       "      <td>15735</td>\n",
       "      <td>0</td>\n",
       "      <td>150.0</td>\n",
       "      <td>55.4</td>\n",
       "      <td>1.4</td>\n",
       "      <td>0</td>\n",
       "      <td>284.0</td>\n",
       "    </tr>\n",
       "    <tr>\n",
       "      <th>1</th>\n",
       "      <td>A6</td>\n",
       "      <td>2016</td>\n",
       "      <td>16500</td>\n",
       "      <td>1</td>\n",
       "      <td>36203</td>\n",
       "      <td>1</td>\n",
       "      <td>20.0</td>\n",
       "      <td>64.2</td>\n",
       "      <td>2.0</td>\n",
       "      <td>0</td>\n",
       "      <td>563.0</td>\n",
       "    </tr>\n",
       "    <tr>\n",
       "      <th>2</th>\n",
       "      <td>A1</td>\n",
       "      <td>2016</td>\n",
       "      <td>11000</td>\n",
       "      <td>0</td>\n",
       "      <td>29946</td>\n",
       "      <td>0</td>\n",
       "      <td>30.0</td>\n",
       "      <td>55.4</td>\n",
       "      <td>1.4</td>\n",
       "      <td>0</td>\n",
       "      <td>540.0</td>\n",
       "    </tr>\n",
       "    <tr>\n",
       "      <th>3</th>\n",
       "      <td>A4</td>\n",
       "      <td>2017</td>\n",
       "      <td>16800</td>\n",
       "      <td>1</td>\n",
       "      <td>25952</td>\n",
       "      <td>1</td>\n",
       "      <td>145.0</td>\n",
       "      <td>67.3</td>\n",
       "      <td>2.0</td>\n",
       "      <td>0</td>\n",
       "      <td>385.0</td>\n",
       "    </tr>\n",
       "    <tr>\n",
       "      <th>4</th>\n",
       "      <td>A3</td>\n",
       "      <td>2019</td>\n",
       "      <td>17300</td>\n",
       "      <td>0</td>\n",
       "      <td>1998</td>\n",
       "      <td>0</td>\n",
       "      <td>145.0</td>\n",
       "      <td>49.6</td>\n",
       "      <td>1.0</td>\n",
       "      <td>0</td>\n",
       "      <td>40.0</td>\n",
       "    </tr>\n",
       "    <tr>\n",
       "      <th>...</th>\n",
       "      <td>...</td>\n",
       "      <td>...</td>\n",
       "      <td>...</td>\n",
       "      <td>...</td>\n",
       "      <td>...</td>\n",
       "      <td>...</td>\n",
       "      <td>...</td>\n",
       "      <td>...</td>\n",
       "      <td>...</td>\n",
       "      <td>...</td>\n",
       "      <td>...</td>\n",
       "    </tr>\n",
       "    <tr>\n",
       "      <th>72430</th>\n",
       "      <td>I30</td>\n",
       "      <td>2016</td>\n",
       "      <td>8680</td>\n",
       "      <td>0</td>\n",
       "      <td>25906</td>\n",
       "      <td>1</td>\n",
       "      <td>0.0</td>\n",
       "      <td>78.4</td>\n",
       "      <td>1.6</td>\n",
       "      <td>6</td>\n",
       "      <td>330.0</td>\n",
       "    </tr>\n",
       "    <tr>\n",
       "      <th>72431</th>\n",
       "      <td>I40</td>\n",
       "      <td>2015</td>\n",
       "      <td>7830</td>\n",
       "      <td>0</td>\n",
       "      <td>59508</td>\n",
       "      <td>1</td>\n",
       "      <td>30.0</td>\n",
       "      <td>65.7</td>\n",
       "      <td>1.7</td>\n",
       "      <td>6</td>\n",
       "      <td>905.0</td>\n",
       "    </tr>\n",
       "    <tr>\n",
       "      <th>72432</th>\n",
       "      <td>I10</td>\n",
       "      <td>2017</td>\n",
       "      <td>6830</td>\n",
       "      <td>0</td>\n",
       "      <td>13810</td>\n",
       "      <td>0</td>\n",
       "      <td>20.0</td>\n",
       "      <td>60.1</td>\n",
       "      <td>1.0</td>\n",
       "      <td>6</td>\n",
       "      <td>229.0</td>\n",
       "    </tr>\n",
       "    <tr>\n",
       "      <th>72433</th>\n",
       "      <td>Tucson</td>\n",
       "      <td>2018</td>\n",
       "      <td>13994</td>\n",
       "      <td>0</td>\n",
       "      <td>23313</td>\n",
       "      <td>0</td>\n",
       "      <td>145.0</td>\n",
       "      <td>44.8</td>\n",
       "      <td>1.6</td>\n",
       "      <td>6</td>\n",
       "      <td>520.0</td>\n",
       "    </tr>\n",
       "    <tr>\n",
       "      <th>72434</th>\n",
       "      <td>Tucson</td>\n",
       "      <td>2016</td>\n",
       "      <td>15999</td>\n",
       "      <td>1</td>\n",
       "      <td>11472</td>\n",
       "      <td>1</td>\n",
       "      <td>125.0</td>\n",
       "      <td>57.6</td>\n",
       "      <td>1.7</td>\n",
       "      <td>6</td>\n",
       "      <td>199.0</td>\n",
       "    </tr>\n",
       "  </tbody>\n",
       "</table>\n",
       "<p>71593 rows × 11 columns</p>\n",
       "</div>"
      ],
      "text/plain": [
       "         model  year  price  transmission  mileage  fuelType    tax   mpg  \\\n",
       "0           A1  2017  12500             0    15735         0  150.0  55.4   \n",
       "1           A6  2016  16500             1    36203         1   20.0  64.2   \n",
       "2           A1  2016  11000             0    29946         0   30.0  55.4   \n",
       "3           A4  2017  16800             1    25952         1  145.0  67.3   \n",
       "4           A3  2019  17300             0     1998         0  145.0  49.6   \n",
       "...        ...   ...    ...           ...      ...       ...    ...   ...   \n",
       "72430      I30  2016   8680             0    25906         1    0.0  78.4   \n",
       "72431      I40  2015   7830             0    59508         1   30.0  65.7   \n",
       "72432      I10  2017   6830             0    13810         0   20.0  60.1   \n",
       "72433   Tucson  2018  13994             0    23313         0  145.0  44.8   \n",
       "72434   Tucson  2016  15999             1    11472         1  125.0  57.6   \n",
       "\n",
       "       engineSize  Company_name  fuel_efficency  \n",
       "0             1.4             0           284.0  \n",
       "1             2.0             0           563.0  \n",
       "2             1.4             0           540.0  \n",
       "3             2.0             0           385.0  \n",
       "4             1.0             0            40.0  \n",
       "...           ...           ...             ...  \n",
       "72430         1.6             6           330.0  \n",
       "72431         1.7             6           905.0  \n",
       "72432         1.0             6           229.0  \n",
       "72433         1.6             6           520.0  \n",
       "72434         1.7             6           199.0  \n",
       "\n",
       "[71593 rows x 11 columns]"
      ]
     },
     "execution_count": 25,
     "metadata": {},
     "output_type": "execute_result"
    }
   ],
   "source": [
    "cars"
   ]
  },
  {
   "cell_type": "markdown",
   "id": "8860437d",
   "metadata": {},
   "source": [
    "### ** Model training"
   ]
  },
  {
   "cell_type": "code",
   "execution_count": 26,
   "id": "a83f08c1",
   "metadata": {},
   "outputs": [
    {
     "data": {
      "text/html": [
       "<div>\n",
       "<style scoped>\n",
       "    .dataframe tbody tr th:only-of-type {\n",
       "        vertical-align: middle;\n",
       "    }\n",
       "\n",
       "    .dataframe tbody tr th {\n",
       "        vertical-align: top;\n",
       "    }\n",
       "\n",
       "    .dataframe thead th {\n",
       "        text-align: right;\n",
       "    }\n",
       "</style>\n",
       "<table border=\"1\" class=\"dataframe\">\n",
       "  <thead>\n",
       "    <tr style=\"text-align: right;\">\n",
       "      <th></th>\n",
       "      <th>year</th>\n",
       "      <th>transmission</th>\n",
       "      <th>mileage</th>\n",
       "      <th>fuelType</th>\n",
       "      <th>tax</th>\n",
       "      <th>mpg</th>\n",
       "      <th>engineSize</th>\n",
       "      <th>Company_name</th>\n",
       "      <th>fuel_efficency</th>\n",
       "    </tr>\n",
       "  </thead>\n",
       "  <tbody>\n",
       "    <tr>\n",
       "      <th>0</th>\n",
       "      <td>2017</td>\n",
       "      <td>0</td>\n",
       "      <td>15735</td>\n",
       "      <td>0</td>\n",
       "      <td>150.0</td>\n",
       "      <td>55.4</td>\n",
       "      <td>1.4</td>\n",
       "      <td>0</td>\n",
       "      <td>284.0</td>\n",
       "    </tr>\n",
       "    <tr>\n",
       "      <th>1</th>\n",
       "      <td>2016</td>\n",
       "      <td>1</td>\n",
       "      <td>36203</td>\n",
       "      <td>1</td>\n",
       "      <td>20.0</td>\n",
       "      <td>64.2</td>\n",
       "      <td>2.0</td>\n",
       "      <td>0</td>\n",
       "      <td>563.0</td>\n",
       "    </tr>\n",
       "    <tr>\n",
       "      <th>2</th>\n",
       "      <td>2016</td>\n",
       "      <td>0</td>\n",
       "      <td>29946</td>\n",
       "      <td>0</td>\n",
       "      <td>30.0</td>\n",
       "      <td>55.4</td>\n",
       "      <td>1.4</td>\n",
       "      <td>0</td>\n",
       "      <td>540.0</td>\n",
       "    </tr>\n",
       "    <tr>\n",
       "      <th>3</th>\n",
       "      <td>2017</td>\n",
       "      <td>1</td>\n",
       "      <td>25952</td>\n",
       "      <td>1</td>\n",
       "      <td>145.0</td>\n",
       "      <td>67.3</td>\n",
       "      <td>2.0</td>\n",
       "      <td>0</td>\n",
       "      <td>385.0</td>\n",
       "    </tr>\n",
       "    <tr>\n",
       "      <th>4</th>\n",
       "      <td>2019</td>\n",
       "      <td>0</td>\n",
       "      <td>1998</td>\n",
       "      <td>0</td>\n",
       "      <td>145.0</td>\n",
       "      <td>49.6</td>\n",
       "      <td>1.0</td>\n",
       "      <td>0</td>\n",
       "      <td>40.0</td>\n",
       "    </tr>\n",
       "    <tr>\n",
       "      <th>...</th>\n",
       "      <td>...</td>\n",
       "      <td>...</td>\n",
       "      <td>...</td>\n",
       "      <td>...</td>\n",
       "      <td>...</td>\n",
       "      <td>...</td>\n",
       "      <td>...</td>\n",
       "      <td>...</td>\n",
       "      <td>...</td>\n",
       "    </tr>\n",
       "    <tr>\n",
       "      <th>72430</th>\n",
       "      <td>2016</td>\n",
       "      <td>0</td>\n",
       "      <td>25906</td>\n",
       "      <td>1</td>\n",
       "      <td>0.0</td>\n",
       "      <td>78.4</td>\n",
       "      <td>1.6</td>\n",
       "      <td>6</td>\n",
       "      <td>330.0</td>\n",
       "    </tr>\n",
       "    <tr>\n",
       "      <th>72431</th>\n",
       "      <td>2015</td>\n",
       "      <td>0</td>\n",
       "      <td>59508</td>\n",
       "      <td>1</td>\n",
       "      <td>30.0</td>\n",
       "      <td>65.7</td>\n",
       "      <td>1.7</td>\n",
       "      <td>6</td>\n",
       "      <td>905.0</td>\n",
       "    </tr>\n",
       "    <tr>\n",
       "      <th>72432</th>\n",
       "      <td>2017</td>\n",
       "      <td>0</td>\n",
       "      <td>13810</td>\n",
       "      <td>0</td>\n",
       "      <td>20.0</td>\n",
       "      <td>60.1</td>\n",
       "      <td>1.0</td>\n",
       "      <td>6</td>\n",
       "      <td>229.0</td>\n",
       "    </tr>\n",
       "    <tr>\n",
       "      <th>72433</th>\n",
       "      <td>2018</td>\n",
       "      <td>0</td>\n",
       "      <td>23313</td>\n",
       "      <td>0</td>\n",
       "      <td>145.0</td>\n",
       "      <td>44.8</td>\n",
       "      <td>1.6</td>\n",
       "      <td>6</td>\n",
       "      <td>520.0</td>\n",
       "    </tr>\n",
       "    <tr>\n",
       "      <th>72434</th>\n",
       "      <td>2016</td>\n",
       "      <td>1</td>\n",
       "      <td>11472</td>\n",
       "      <td>1</td>\n",
       "      <td>125.0</td>\n",
       "      <td>57.6</td>\n",
       "      <td>1.7</td>\n",
       "      <td>6</td>\n",
       "      <td>199.0</td>\n",
       "    </tr>\n",
       "  </tbody>\n",
       "</table>\n",
       "<p>71593 rows × 9 columns</p>\n",
       "</div>"
      ],
      "text/plain": [
       "       year  transmission  mileage  fuelType    tax   mpg  engineSize  \\\n",
       "0      2017             0    15735         0  150.0  55.4         1.4   \n",
       "1      2016             1    36203         1   20.0  64.2         2.0   \n",
       "2      2016             0    29946         0   30.0  55.4         1.4   \n",
       "3      2017             1    25952         1  145.0  67.3         2.0   \n",
       "4      2019             0     1998         0  145.0  49.6         1.0   \n",
       "...     ...           ...      ...       ...    ...   ...         ...   \n",
       "72430  2016             0    25906         1    0.0  78.4         1.6   \n",
       "72431  2015             0    59508         1   30.0  65.7         1.7   \n",
       "72432  2017             0    13810         0   20.0  60.1         1.0   \n",
       "72433  2018             0    23313         0  145.0  44.8         1.6   \n",
       "72434  2016             1    11472         1  125.0  57.6         1.7   \n",
       "\n",
       "       Company_name  fuel_efficency  \n",
       "0                 0           284.0  \n",
       "1                 0           563.0  \n",
       "2                 0           540.0  \n",
       "3                 0           385.0  \n",
       "4                 0            40.0  \n",
       "...             ...             ...  \n",
       "72430             6           330.0  \n",
       "72431             6           905.0  \n",
       "72432             6           229.0  \n",
       "72433             6           520.0  \n",
       "72434             6           199.0  \n",
       "\n",
       "[71593 rows x 9 columns]"
      ]
     },
     "execution_count": 26,
     "metadata": {},
     "output_type": "execute_result"
    }
   ],
   "source": [
    "x=cars.drop(['model','price'],axis=1)\n",
    "x"
   ]
  },
  {
   "cell_type": "code",
   "execution_count": 27,
   "id": "ceab7418",
   "metadata": {},
   "outputs": [
    {
     "data": {
      "text/plain": [
       "0        12500\n",
       "1        16500\n",
       "2        11000\n",
       "3        16800\n",
       "4        17300\n",
       "         ...  \n",
       "72430     8680\n",
       "72431     7830\n",
       "72432     6830\n",
       "72433    13994\n",
       "72434    15999\n",
       "Name: price, Length: 71593, dtype: int64"
      ]
     },
     "execution_count": 27,
     "metadata": {},
     "output_type": "execute_result"
    }
   ],
   "source": [
    "y=cars.price\n",
    "y"
   ]
  },
  {
   "cell_type": "code",
   "execution_count": 28,
   "id": "c76e945a",
   "metadata": {},
   "outputs": [],
   "source": [
    "from sklearn.model_selection import train_test_split"
   ]
  },
  {
   "cell_type": "code",
   "execution_count": 29,
   "id": "eb6babd3",
   "metadata": {},
   "outputs": [],
   "source": [
    "# splitting the data into training and testing to train the model \n",
    "\n",
    "x_train,x_test,y_train,y_test=train_test_split(x,y,test_size=0.25,random_state=2)"
   ]
  },
  {
   "cell_type": "code",
   "execution_count": 30,
   "id": "82490544",
   "metadata": {},
   "outputs": [
    {
     "name": "stdout",
     "output_type": "stream",
     "text": [
      "(53694, 9)\n",
      "(17899, 9)\n"
     ]
    }
   ],
   "source": [
    "print(x_train.shape)\n",
    "print(x_test.shape)\n",
    "\n",
    "# In the 100 percent of the data 80 percent data is divided for training data and the \n",
    "#remaining 20 percent is for testing data"
   ]
  },
  {
   "cell_type": "markdown",
   "id": "6752c2b8",
   "metadata": {},
   "source": [
    "### * Standardization of data"
   ]
  },
  {
   "cell_type": "code",
   "execution_count": 31,
   "id": "8a48bdce",
   "metadata": {},
   "outputs": [],
   "source": [
    "from sklearn.preprocessing import StandardScaler"
   ]
  },
  {
   "cell_type": "code",
   "execution_count": 32,
   "id": "72683d6d",
   "metadata": {},
   "outputs": [],
   "source": [
    "# the standardization is for to get the total data into the particular interval"
   ]
  },
  {
   "cell_type": "code",
   "execution_count": 33,
   "id": "1543bfd2",
   "metadata": {},
   "outputs": [],
   "source": [
    "sc=StandardScaler()"
   ]
  },
  {
   "cell_type": "code",
   "execution_count": 34,
   "id": "4badd421",
   "metadata": {},
   "outputs": [
    {
     "data": {
      "text/plain": [
       "StandardScaler()"
      ]
     },
     "execution_count": 34,
     "metadata": {},
     "output_type": "execute_result"
    }
   ],
   "source": [
    "sc.fit(x_train)"
   ]
  },
  {
   "cell_type": "code",
   "execution_count": 35,
   "id": "fec65e1e",
   "metadata": {},
   "outputs": [
    {
     "name": "stdout",
     "output_type": "stream",
     "text": [
      "[[-3.84323829 -0.7611334   2.65656701 ...  0.64735556  0.30519849\n",
      "   4.23214318]\n",
      " [ 0.92067335 -0.7611334  -1.09089715 ... -1.1345963   2.05697952\n",
      "  -1.02382998]\n",
      " [ 0.92067335  0.46972817 -0.9370346  ...  2.42930741 -0.86265553\n",
      "  -0.82290233]\n",
      " ...\n",
      " [-0.03210898 -0.7611334   0.21087581 ... -0.06542519 -0.27872852\n",
      "   0.39246489]\n",
      " [ 1.39706451 -0.7611334  -1.01002068 ... -1.1345963  -0.27872852\n",
      "  -0.94786953]\n",
      " [-0.50850015 -0.7611334   1.23700185 ...  0.64735556  0.30519849\n",
      "   0.73796242]]\n"
     ]
    }
   ],
   "source": [
    "x_train_stand=sc.transform(x_train)\n",
    "\n",
    "print(x_train_stand)\n",
    "\n",
    "# In these each one dimensional array indicates each row and the total values is\n",
    "#standarded into particular interval"
   ]
  },
  {
   "cell_type": "code",
   "execution_count": 36,
   "id": "26b0e33f",
   "metadata": {},
   "outputs": [
    {
     "data": {
      "text/plain": [
       "array([[-0.50850015,  0.46972817, -0.50822964, ..., -1.1345963 ,\n",
       "        -0.27872852, -0.43329873],\n",
       "       [ 0.44428218, -0.7611334 , -0.12418384, ...,  0.64735556,\n",
       "         0.30519849,  0.11802713],\n",
       "       [-0.03210898, -0.7611334 , -0.9960716 , ..., -1.1345963 ,\n",
       "         0.30519849, -0.94051851],\n",
       "       ...,\n",
       "       [-0.03210898,  1.70058974, -0.65969689, ...,  0.11277   ,\n",
       "         2.05697952, -0.63422637],\n",
       "       [ 1.39706451,  1.70058974, -0.90500339, ...,  2.42930741,\n",
       "        -0.86265553, -0.7346902 ],\n",
       "       [ 0.92067335,  0.46972817, -0.90350046, ...,  2.42930741,\n",
       "        -1.44658255, -0.73223986]])"
      ]
     },
     "execution_count": 36,
     "metadata": {},
     "output_type": "execute_result"
    }
   ],
   "source": [
    "x_test_stand=sc.transform(x_test)\n",
    "x_test_stand"
   ]
  },
  {
   "cell_type": "markdown",
   "id": "5e2bbe3f",
   "metadata": {},
   "source": [
    "##  ** Apply Linear Regression model"
   ]
  },
  {
   "cell_type": "code",
   "execution_count": 37,
   "id": "d6d87a10",
   "metadata": {},
   "outputs": [],
   "source": [
    "# for applying linear or any model first we create the model"
   ]
  },
  {
   "cell_type": "markdown",
   "id": "4829ef8a",
   "metadata": {},
   "source": [
    "###  * Creating Linear Regression model"
   ]
  },
  {
   "cell_type": "code",
   "execution_count": 39,
   "id": "43ff5908",
   "metadata": {},
   "outputs": [],
   "source": [
    "from numpy import *\n",
    "\n",
    "\n",
    "class Linear_Regression():\n",
    "    \n",
    "    # this function to intialise the hyper parameter values\n",
    "    \n",
    "    def __init__(self,learning_rate,no_of_iterations):\n",
    "        \n",
    "        self.learning_rate=learning_rate\n",
    "        \n",
    "        self.no_of_iterations=no_of_iterations\n",
    "        \n",
    "    \n",
    "   \n",
    "   # this function to intialise model parameter values\n",
    "    \n",
    "    def fit(self,x,y):\n",
    "        \n",
    "        # it gives the m value as no.of trainning examples and n value as features of the data\n",
    "        \n",
    "        self.m,self.n=x.shape\n",
    "        \n",
    "        # intialise model parameters are weight and bias values\n",
    "        \n",
    "        # the weight consists of multiple features so it is an array\n",
    "       \n",
    "        self.w=zeros(self.n)\n",
    "        \n",
    "        # the bias consists only one feature so the value is an scalar\n",
    "        \n",
    "        self.b=0\n",
    "        \n",
    "        self.x=x\n",
    "        \n",
    "        self.y=y\n",
    "        \n",
    "       \n",
    "      \n",
    "        # Implementing the gradient descent\n",
    "        \n",
    "        for i in range(self.no_of_iterations):\n",
    "            \n",
    "            self.update_weights()\n",
    "            \n",
    "   \n",
    "   \n",
    "    # updating weights from iteration to iteration\n",
    "    \n",
    "    def update_weights(self):\n",
    "        \n",
    "        # the y_prediction stores the predicted values for that weights and bias\n",
    "        \n",
    "        y_prediction=self.predict(self.x)\n",
    "        \n",
    "        # formula for differentiating weight    dw=[-2(summation(xi(yi-y_pred)))/n]\n",
    "        \n",
    "        dw=-(2*(self.x.T).dot(self.y-y_prediction))/self.m\n",
    "        \n",
    "        # formula for differentiating bias     db=[-2(summation(yi-y_pred))/n]   \n",
    "        \n",
    "        db=-2*sum(self.y-y_prediction)/self.m\n",
    "        \n",
    "        # updating weights and bias\n",
    "       \n",
    "        self.w=self.w-(self.learning_rate*dw)   # [ w = w - lr * dw ]\n",
    "        \n",
    "        self.b=self.b-(self.learning_rate*db)   # [ b = b- lr * db ]\n",
    "        \n",
    "   \n",
    "    \n",
    "    # predicting the y values to respect to x \n",
    "    \n",
    "    def predict(self,x):\n",
    "        \n",
    "        # it is done on the formulae [y=w*x+b]\n",
    "        \n",
    "        return x.dot(self.w)+self.b"
   ]
  },
  {
   "cell_type": "markdown",
   "id": "14f2b3e5",
   "metadata": {},
   "source": [
    "###  * Training the linear model"
   ]
  },
  {
   "cell_type": "code",
   "execution_count": 40,
   "id": "d17e41f2",
   "metadata": {},
   "outputs": [],
   "source": [
    "# load the linear model (lerning rate is magnitude of change)\n",
    "\n",
    "model=Linear_Regression(learning_rate=0.06,no_of_iterations=1000)"
   ]
  },
  {
   "cell_type": "code",
   "execution_count": 41,
   "id": "58740a60",
   "metadata": {},
   "outputs": [],
   "source": [
    "# fitting the data to the model\n",
    "\n",
    "model.fit(x_train_stand,y_train)"
   ]
  },
  {
   "cell_type": "code",
   "execution_count": 42,
   "id": "86669d6a",
   "metadata": {},
   "outputs": [
    {
     "data": {
      "text/plain": [
       "16559.71400901395"
      ]
     },
     "execution_count": 42,
     "metadata": {},
     "output_type": "execute_result"
    }
   ],
   "source": [
    "model.b"
   ]
  },
  {
   "cell_type": "code",
   "execution_count": 43,
   "id": "f17cdf40",
   "metadata": {},
   "outputs": [
    {
     "data": {
      "text/plain": [
       "3376.267963475859"
      ]
     },
     "execution_count": 43,
     "metadata": {},
     "output_type": "execute_result"
    }
   ],
   "source": [
    "model.w[0]"
   ]
  },
  {
   "cell_type": "raw",
   "id": "e4dde6d5",
   "metadata": {},
   "source": [
    "The linear equation  is [ y = wx + b ]\n",
    "\n",
    "weight is 3376 and bias is 16559\n",
    " \n",
    "Then our linear equation is [ car_price = 3376 (x) + 16559]\n",
    "\n",
    "In the x value we load the the features of the data like \n",
    "'year','transmission', 'mileage', 'fuelType', 'tax', 'mpg', 'engineSize',Company_name\n",
    "by entering the all values as x then by comparing the all the features and \n",
    "the model predict the car price based on these values\n",
    " "
   ]
  },
  {
   "cell_type": "markdown",
   "id": "6e7323df",
   "metadata": {},
   "source": [
    "### * Predict the car price for the test data"
   ]
  },
  {
   "cell_type": "code",
   "execution_count": 44,
   "id": "04feb5db",
   "metadata": {},
   "outputs": [
    {
     "data": {
      "text/plain": [
       "(17899, 9)"
      ]
     },
     "execution_count": 44,
     "metadata": {},
     "output_type": "execute_result"
    }
   ],
   "source": [
    "x_test.shape"
   ]
  },
  {
   "cell_type": "code",
   "execution_count": 45,
   "id": "73d3f5a9",
   "metadata": {},
   "outputs": [
    {
     "data": {
      "text/plain": [
       "array([11255.28857898, 20480.51399136, 11064.14271219, ...,\n",
       "       17815.33454677, 39154.81293672, 36708.75165061])"
      ]
     },
     "execution_count": 45,
     "metadata": {},
     "output_type": "execute_result"
    }
   ],
   "source": [
    "test_data_predict=model.predict(x_test_stand)\n",
    "test_data_predict"
   ]
  },
  {
   "cell_type": "code",
   "execution_count": 46,
   "id": "062eace0",
   "metadata": {},
   "outputs": [
    {
     "name": "stdout",
     "output_type": "stream",
     "text": [
      "r socre 0.7532728575900067\n"
     ]
    }
   ],
   "source": [
    "\n",
    "from sklearn.metrics import r2_score\n",
    "\n",
    "# Calculate R-squared score\n",
    "r2 = r2_score(y_test, test_data_predict)\n",
    "print(\"r socre\",r2)"
   ]
  },
  {
   "cell_type": "code",
   "execution_count": null,
   "id": "258eba91",
   "metadata": {},
   "outputs": [],
   "source": []
  }
 ],
 "metadata": {
  "kernelspec": {
   "display_name": "Python 3 (ipykernel)",
   "language": "python",
   "name": "python3"
  },
  "language_info": {
   "codemirror_mode": {
    "name": "ipython",
    "version": 3
   },
   "file_extension": ".py",
   "mimetype": "text/x-python",
   "name": "python",
   "nbconvert_exporter": "python",
   "pygments_lexer": "ipython3",
   "version": "3.9.13"
  }
 },
 "nbformat": 4,
 "nbformat_minor": 5
}
